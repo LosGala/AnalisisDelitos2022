{
  "nbformat": 4,
  "nbformat_minor": 0,
  "metadata": {
    "colab": {
      "provenance": [],
      "authorship_tag": "ABX9TyMrbeSE/Cfl3sTU0w0UjA3/",
      "include_colab_link": true
    },
    "kernelspec": {
      "name": "python3",
      "display_name": "Python 3"
    },
    "language_info": {
      "name": "python"
    }
  },
  "cells": [
    {
      "cell_type": "markdown",
      "metadata": {
        "id": "view-in-github",
        "colab_type": "text"
      },
      "source": [
        "<a href=\"https://colab.research.google.com/github/LosGala/AnalisisDelitos2022/blob/main/Galarza_Mario_Scrapping__HSJDD_202401271.ipynb\" target=\"_parent\"><img src=\"https://colab.research.google.com/assets/colab-badge.svg\" alt=\"Open In Colab\"/></a>"
      ]
    },
    {
      "cell_type": "code",
      "execution_count": null,
      "metadata": {
        "colab": {
          "base_uri": "https://localhost:8080/"
        },
        "id": "pKiTV-ajL5gm",
        "outputId": "9bada447-3259-4755-e674-e9fabf2d9d01"
      },
      "outputs": [
        {
          "output_type": "stream",
          "name": "stdout",
          "text": [
            "1. UPDATE 1-Pension, tax provisions scrapped from Argentina reform push to ease passage\n",
            "   Enlace: /news/1-pension-tax-provisions-scrapped-233103965.html\n",
            "\n",
            "2. Biden suspends gas exports: Will this impact producers?\n",
            "   Enlace: /video/biden-suspends-gas-exports-impact-224219680.html\n",
            "\n",
            "3. Exclusive-Lockheed Martin to cut 1% of its jobs in cost-cutting push\n",
            "   Enlace: /news/exclusive-lockheed-martin-cut-1-224004651.html\n",
            "\n",
            "4. Fed decision, tech earnings, jobs report: What to watch\n",
            "   Enlace: /video/fed-decision-tech-earnings-jobs-223616317.html\n",
            "\n",
            "5. Venezuela Blocks Opposition Leader Machado’s Presidential Run\n",
            "   Enlace: /news/venezuela-blocks-opposition-leader-machado-213717627.html\n",
            "\n",
            "6. Trafigura Tanker Carrying Russian Fuel Struck by Houthis\n",
            "   Enlace: /news/trafigura-tanker-carrying-russian-fuel-223157205.html\n",
            "\n",
            "7. What lies ahead for the tech sector after all these layoffs\n",
            "   Enlace: /video/lies-ahead-tech-sector-layoffs-223107258.html\n",
            "\n",
            "8. Why IBM's new retirement plan has the industry buzzing\n",
            "   Enlace: /video/why-ibms-retirement-plan-industry-222733642.html\n",
            "\n",
            "9. Media layoffs: Paramount, Google among companies cutting staff\n",
            "   Enlace: /video/media-layoffs-paramount-google-among-221746869.html\n",
            "\n",
            "10. UPDATE 1-Bayer ordered to pay $2.25 billion in latest Roundup trial\n",
            "   Enlace: /news/1-bayer-ordered-pay-2-221546114.html\n",
            "\n"
          ]
        }
      ],
      "source": [
        "import csv\n",
        "import requests\n",
        "from bs4 import BeautifulSoup\n",
        "\n",
        "def obtener_noticias_yahoo_finance():\n",
        "    url = \"https://finance.yahoo.com/news?guccounter=1\"\n",
        "    response = requests.get(url)\n",
        "\n",
        "    if response.status_code == 200:\n",
        "        soup = BeautifulSoup(response.text, 'html.parser')\n",
        "        noticias = soup.find_all('li', class_='js-stream-content')\n",
        "\n",
        "        for i, noticia in enumerate(noticias[:10]):\n",
        "            titulo = noticia.find('h3').text.strip()\n",
        "            enlace = noticia.find('a')['href']\n",
        "            print(f\"{i+1}. {titulo}\")\n",
        "            print(f\"   Enlace: {enlace}\")\n",
        "            print()\n",
        "\n",
        "if __name__ == \"__main__\":\n",
        "    obtener_noticias_yahoo_finance()\n"
      ]
    }
  ]
}